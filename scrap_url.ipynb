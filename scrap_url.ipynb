{
 "cells": [
  {
   "cell_type": "code",
   "execution_count": 1,
   "id": "1c5646bf-c953-4a09-92b6-41a35764da12",
   "metadata": {},
   "outputs": [
    {
     "name": "stderr",
     "output_type": "stream",
     "text": [
      "[WDM] - Downloading: 100%|████████████████████████████████████████████████████████| 6.58M/6.58M [00:01<00:00, 3.81MB/s]\n"
     ]
    }
   ],
   "source": [
    "import time\n",
    "from csv import DictWriter\n",
    "from datetime import date\n",
    "\n",
    "from selenium import webdriver\n",
    "from selenium.common import exceptions\n",
    "from selenium.webdriver.chrome.options import Options\n",
    "from selenium.webdriver.chrome.service import Service\n",
    "from selenium.webdriver.common.by import By\n",
    "from selenium.webdriver.support import expected_conditions as EC\n",
    "from selenium.webdriver.support.ui import WebDriverWait\n",
    "from webdriver_manager.chrome import ChromeDriverManager\n",
    "\n",
    "import hkjobsdb_date_reformat\n",
    "\n",
    "TARGET_JOB = 'data-scientist'\n",
    "WEBSITE = f'https://hk.jobsdb.com/hk/job-list/information-technology/{TARGET_JOB}/'\n",
    "LOAD_SEC_PER_JOB = 3      # increase if internet is slow\n",
    "\n",
    "options = Options()\n",
    "options.add_argument(\"start-maximized\")\n",
    "# options.add_argument('headless')\n",
    "driver = webdriver.Chrome(service=Service(ChromeDriverManager().install()), options=options)\n",
    "driver.get(WEBSITE+'1')\n",
    "\n",
    "time.sleep(LOAD_SEC_PER_JOB)\n",
    "left_panel_job_link_list = driver.find_elements(By.XPATH, '//div[@class=\"sx2jih0 zcydq8n lmSnC_0\"]')\n",
    "job_link = left_panel_job_link_list[1]\n",
    "try:\n",
    "    WebDriverWait(driver, 20).until(EC.element_to_be_clickable(job_link)).click()\n",
    "except exceptions.ElementClickInterceptedException:\n",
    "    print('job not clickable')\n",
    "    pass             "
   ]
  },
  {
   "cell_type": "code",
   "execution_count": 2,
   "id": "b0e45070-10e4-49ce-8de5-386da77a74f3",
   "metadata": {},
   "outputs": [
    {
     "data": {
      "text/plain": [
       "'Data Analyst (Data & AI)'"
      ]
     },
     "execution_count": 2,
     "metadata": {},
     "output_type": "execute_result"
    }
   ],
   "source": [
    "# scrap title\n",
    "time.sleep(LOAD_SEC_PER_JOB)\n",
    "try:\n",
    "    title = driver.find_element(By.XPATH, '//h1[@class =\"sx2jih0 _18qlyvc0 _18qlyvch _1d0g9qk4 _18qlyvcp _18qlyvc1x\"]').text\n",
    "except exceptions.NoSuchElementException:\n",
    "    title = 'title'     # scrape fail/missing value placeholder   \n",
    "title"
   ]
  },
  {
   "cell_type": "code",
   "execution_count": 5,
   "id": "fc41bfd0-8e14-44a8-a500-fed8472f761d",
   "metadata": {},
   "outputs": [
    {
     "data": {
      "text/plain": [
       "'https://hk.jobsdb.com/hk/en/job/data-analyst-data-ai-100003009913314?jobId=jobsdb-hk-job-100003009913314&sectionRank=2&token=0~a6cb6992-3fdb-4898-bf3e-150742391e5f&searchPath=%2Fhk%2Fjob-list%2Finformation-technology%2Fdata-scientist%2F1'"
      ]
     },
     "execution_count": 5,
     "metadata": {},
     "output_type": "execute_result"
    }
   ],
   "source": [
    "# scrap url\n",
    "\n",
    "time.sleep(LOAD_SEC_PER_JOB)\n",
    "try:\n",
    "    job_url_element = driver.find_element(By.XPATH, '//*[text() = \"View in new tab\"]')\n",
    "    job_url = job_url_element.get_attribute(\"href\")\n",
    "except exceptions.NoSuchElementException:\n",
    "    job_url = 'job_url'     # scrape fail/missing value placeholder   \n",
    "job_url"
   ]
  },
  {
   "cell_type": "code",
   "execution_count": null,
   "id": "b86e3c4f-c385-4a35-b19e-e982ea45564f",
   "metadata": {},
   "outputs": [],
   "source": []
  }
 ],
 "metadata": {
  "kernelspec": {
   "display_name": "Python 3 (ipykernel)",
   "language": "python",
   "name": "python3"
  },
  "language_info": {
   "codemirror_mode": {
    "name": "ipython",
    "version": 3
   },
   "file_extension": ".py",
   "mimetype": "text/x-python",
   "name": "python",
   "nbconvert_exporter": "python",
   "pygments_lexer": "ipython3",
   "version": "3.9.15"
  }
 },
 "nbformat": 4,
 "nbformat_minor": 5
}
