{
 "cells": [
  {
   "cell_type": "code",
   "execution_count": 1,
   "id": "55bd46d2",
   "metadata": {},
   "outputs": [],
   "source": [
    "# test code to scrape additional information"
   ]
  },
  {
   "cell_type": "code",
   "execution_count": 2,
   "id": "1d1c3bda",
   "metadata": {},
   "outputs": [],
   "source": [
    "import time\n",
    "from csv import DictWriter\n",
    "from datetime import date\n",
    "\n",
    "from selenium import webdriver\n",
    "from selenium.common import exceptions\n",
    "from selenium.webdriver.chrome.options import Options\n",
    "from selenium.webdriver.chrome.service import Service\n",
    "from selenium.webdriver.common.by import By\n",
    "from selenium.webdriver.support import expected_conditions as EC\n",
    "from selenium.webdriver.support.ui import WebDriverWait\n",
    "from webdriver_manager.chrome import ChromeDriverManager\n",
    "\n",
    "import hkjobsdb_date_reformat\n",
    "\n",
    "TARGET_JOB = 'data-scientist'\n",
    "WEBSITE = f'https://hk.jobsdb.com/hk/job-list/information-technology/{TARGET_JOB}/'\n",
    "LOAD_SEC_PER_JOB = 3      # increase if internet is slow\n"
   ]
  },
  {
   "cell_type": "code",
   "execution_count": 3,
   "id": "5171760c",
   "metadata": {},
   "outputs": [],
   "source": [
    "options = Options()\n",
    "options.add_argument(\"start-maximized\")\n",
    "# options.add_argument('headless')\n",
    "driver = webdriver.Chrome(service=Service(ChromeDriverManager().install()), options=options)\n",
    "driver.get(WEBSITE+'1')"
   ]
  },
  {
   "cell_type": "code",
   "execution_count": 4,
   "id": "0c3e819c",
   "metadata": {},
   "outputs": [],
   "source": [
    "time.sleep(LOAD_SEC_PER_JOB)\n",
    "left_panel_job_link_list = driver.find_elements(By.XPATH, '//div[@class=\"sx2jih0 zcydq8n lmSnC_0\"]')\n",
    "job_link = left_panel_job_link_list[1]\n",
    "try:\n",
    "    WebDriverWait(driver, 20).until(EC.element_to_be_clickable(job_link)).click()\n",
    "except exceptions.ElementClickInterceptedException:\n",
    "    print('job not clickable')\n",
    "    pass                "
   ]
  },
  {
   "cell_type": "code",
   "execution_count": 5,
   "id": "eee25085",
   "metadata": {},
   "outputs": [
    {
     "data": {
      "text/plain": [
       "'Data Analyst, 35k, Perm, Local Listed Media Company'"
      ]
     },
     "execution_count": 5,
     "metadata": {},
     "output_type": "execute_result"
    }
   ],
   "source": [
    "time.sleep(LOAD_SEC_PER_JOB)\n",
    "try:\n",
    "    title = driver.find_element(By.XPATH, '//h1[@class =\"sx2jih0 _18qlyvc0 _18qlyvch _1d0g9qk4 _18qlyvcp _18qlyvc1x\"]').text\n",
    "except exceptions.NoSuchElementException:\n",
    "    title = 'title'     # scrape fail/missing value placeholder   \n",
    "title"
   ]
  },
  {
   "cell_type": "code",
   "execution_count": 6,
   "id": "27b46643",
   "metadata": {},
   "outputs": [
    {
     "data": {
      "text/plain": [
       "<selenium.webdriver.remote.webelement.WebElement (session=\"837125fee27153873c488e55cefaea04\", element=\"3b9f8238-9a74-4875-88db-891fcf7758aa\")>"
      ]
     },
     "execution_count": 6,
     "metadata": {},
     "output_type": "execute_result"
    }
   ],
   "source": [
    "time.sleep(5)\n",
    "# additional information table\n",
    "# <div class=\"sx2jih0 zcydq856 zcydq8fe _17fduda27\">\n",
    "\n",
    "try:\n",
    "    additional_table = driver.find_element(By.XPATH, '//div[@class =\"sx2jih0 zcydq856 zcydq8fe _17fduda27\"]')\n",
    "except exceptions.NoSuchElementException:\n",
    "    pass   # scrape fail/missing value placeholder   \n",
    "additional_table"
   ]
  },
  {
   "cell_type": "code",
   "execution_count": 7,
   "id": "58892ec5",
   "metadata": {},
   "outputs": [],
   "source": [
    "def scrap_additional_info_as_dict():\n",
    "    time.sleep(5)\n",
    "    # additional information table\n",
    "    # <div class=\"sx2jih0 zcydq856 zcydq8fe _17fduda27\">\n",
    "\n",
    "    try:\n",
    "        additional_table = driver.find_element(By.XPATH, '//div[@class =\"sx2jih0 zcydq856 zcydq8fe _17fduda27\"]')\n",
    "    except exceptions.NoSuchElementException:\n",
    "        pass   # scrape fail/missing value placeholder   \n",
    "\n",
    "    additional_info_raw= additional_table.text\n",
    "    additional_info_list = additional_info_raw.split('\\n')\n",
    "    table_len = len(additional_info_list)\n",
    "    additional_columns = []\n",
    "    additional_values = []\n",
    "    for i in range(table_len):\n",
    "        if i%2==0:\n",
    "            additional_columns.append(additional_info_list[i])\n",
    "        else:\n",
    "            additional_values.append(additional_info_list[i])\n",
    "    \n",
    "    #print(addditional_columns)\n",
    "    #print(additional_values)\n",
    "    \n",
    "    additional_info_dict = dict(map(lambda i,j : (i,j) , additional_columns,additional_values))\n",
    "    return additional_info_dict\n",
    "        "
   ]
  },
  {
   "cell_type": "code",
   "execution_count": 8,
   "id": "ba2f2b4c",
   "metadata": {},
   "outputs": [
    {
     "name": "stdout",
     "output_type": "stream",
     "text": [
      "{'Career Level': 'Entry Level', 'Qualification': 'Non-Degree Tertiary', 'Years of Experience': '2 years', 'Job Type': 'Full Time, Permanent', 'Job Functions': 'Media & Advertising, Editorial / Journalism, Information Technology (IT), Data Scientist'}\n"
     ]
    }
   ],
   "source": [
    "print(scrap_additional_info_as_dict())"
   ]
  },
  {
   "cell_type": "code",
   "execution_count": 9,
   "id": "76347b23",
   "metadata": {},
   "outputs": [],
   "source": [
    "# test dictwrite "
   ]
  },
  {
   "cell_type": "code",
   "execution_count": 10,
   "id": "ac6ba723-6ed8-4545-8240-936d94ead704",
   "metadata": {},
   "outputs": [],
   "source": [
    "from csv import DictWriter\n",
    "\n",
    "columns_complete = ['0','1','2','3']\n",
    "values_complete = ['a','b','c','d']\n",
    "columns_incomplete = ['0','2','3']\n",
    "values_incomplete = ['e','f','g']\n",
    "\n",
    "def dict_gen(list_a, list_b):\n",
    "    return dict(map(lambda i,j : (i,j) , list_a, list_b))\n",
    "\n",
    "dict_1 = dict_gen(columns_complete, values_complete)\n",
    "dict_2 = dict_gen(columns_incomplete, values_incomplete)\n",
    "\n",
    "with open('dict_test.csv', 'w', newline='') as test_fh:\n",
    "    writer = DictWriter(test_fh, fieldnames=columns_complete)\n",
    "    \n",
    "    writer.writeheader()\n",
    "    writer.writerow(dict_1)\n",
    "    writer.writerow(dict_2)"
   ]
  },
  {
   "cell_type": "code",
   "execution_count": null,
   "id": "993bbbad-602a-46b8-8124-47f0e801a242",
   "metadata": {},
   "outputs": [],
   "source": []
  }
 ],
 "metadata": {
  "kernelspec": {
   "display_name": "Python 3 (ipykernel)",
   "language": "python",
   "name": "python3"
  },
  "language_info": {
   "codemirror_mode": {
    "name": "ipython",
    "version": 3
   },
   "file_extension": ".py",
   "mimetype": "text/x-python",
   "name": "python",
   "nbconvert_exporter": "python",
   "pygments_lexer": "ipython3",
   "version": "3.9.15"
  }
 },
 "nbformat": 4,
 "nbformat_minor": 5
}
