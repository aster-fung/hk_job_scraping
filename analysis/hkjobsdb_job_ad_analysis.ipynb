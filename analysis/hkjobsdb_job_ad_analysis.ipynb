{
 "cells": [
  {
   "cell_type": "markdown",
   "id": "e9165f3a-cd7c-4d2b-9441-50ea03ff84a2",
   "metadata": {},
   "source": [
    "# Welcome to the notebook for Hong Kong JobsDb job advertisement analysis\n"
   ]
  },
  {
   "cell_type": "markdown",
   "id": "b4c7842b-772e-4ae2-8e47-e81f7f763561",
   "metadata": {},
   "source": [
    "## import module and data"
   ]
  },
  {
   "cell_type": "code",
   "execution_count": 1,
   "id": "ea747484-5baf-45a5-a486-3d1cd12806fe",
   "metadata": {},
   "outputs": [],
   "source": [
    "# scrap the data\n",
    "\n",
    "# run hkjobsdb_scrap.py outside of this notebook\n",
    "# returns <job title-date of scrap-number>.csv"
   ]
  },
  {
   "cell_type": "code",
   "execution_count": 2,
   "id": "88430a27-fb0d-40f7-a157-30e7c9e3afeb",
   "metadata": {},
   "outputs": [],
   "source": [
    "import numpy as np\n",
    "import pandas as pd\n",
    "import matplotlib.pyplot as plt\n",
    "import seaborn as sns\n",
    "import re\n",
    "\n",
    "sns.set_theme()"
   ]
  },
  {
   "cell_type": "code",
   "execution_count": 3,
   "id": "fb8e82d2-2d69-45fe-a945-02e5f1b8a110",
   "metadata": {},
   "outputs": [],
   "source": [
    "# important parameters\n",
    "file_name = ('data-scientist-2022-12-06-1.csv')"
   ]
  },
  {
   "cell_type": "code",
   "execution_count": 4,
   "id": "7838849c-784f-4843-bdda-85c09c8579f5",
   "metadata": {},
   "outputs": [],
   "source": [
    "# load the dat\n",
    "df_raw = pd.read_csv(file_name)\n"
   ]
  },
  {
   "cell_type": "markdown",
   "id": "5e770eba-b26e-4941-aacf-3e1111db8a49",
   "metadata": {},
   "source": [
    "## Data inspection "
   ]
  },
  {
   "cell_type": "code",
   "execution_count": 5,
   "id": "6da5a7b7-5285-463d-ac96-d7393df595f2",
   "metadata": {},
   "outputs": [
    {
     "data": {
      "text/html": [
       "<div>\n",
       "<style scoped>\n",
       "    .dataframe tbody tr th:only-of-type {\n",
       "        vertical-align: middle;\n",
       "    }\n",
       "\n",
       "    .dataframe tbody tr th {\n",
       "        vertical-align: top;\n",
       "    }\n",
       "\n",
       "    .dataframe thead th {\n",
       "        text-align: right;\n",
       "    }\n",
       "</style>\n",
       "<table border=\"1\" class=\"dataframe\">\n",
       "  <thead>\n",
       "    <tr style=\"text-align: right;\">\n",
       "      <th></th>\n",
       "      <th>title</th>\n",
       "      <th>salary</th>\n",
       "      <th>company</th>\n",
       "      <th>posted</th>\n",
       "      <th>district</th>\n",
       "      <th>job_description</th>\n",
       "      <th>Career Level</th>\n",
       "      <th>Years of Experience</th>\n",
       "      <th>Company Website</th>\n",
       "      <th>Qualification</th>\n",
       "      <th>Job Type</th>\n",
       "      <th>Job Functions</th>\n",
       "      <th>url</th>\n",
       "    </tr>\n",
       "  </thead>\n",
       "  <tbody>\n",
       "    <tr>\n",
       "      <th>0</th>\n",
       "      <td>Data Scientist</td>\n",
       "      <td>salary</td>\n",
       "      <td>Connexe Search Limited</td>\n",
       "      <td>2022-12-06</td>\n",
       "      <td>Kowloon Bay</td>\n",
       "      <td>Our client is one of the leading financial ins...</td>\n",
       "      <td>NaN</td>\n",
       "      <td>NaN</td>\n",
       "      <td>NaN</td>\n",
       "      <td>NaN</td>\n",
       "      <td>Contract</td>\n",
       "      <td>Banking / Finance, Others, Information Technol...</td>\n",
       "      <td>https://hk.jobsdb.com/hk/en/job/data-scientist...</td>\n",
       "    </tr>\n",
       "    <tr>\n",
       "      <th>1</th>\n",
       "      <td>Data Analyst (Data &amp; AI)</td>\n",
       "      <td>salary</td>\n",
       "      <td>NCSI (HK) Limited</td>\n",
       "      <td>2022-12-06</td>\n",
       "      <td>Tai Koo</td>\n",
       "      <td>Key Role Responsibilities:\\n\\nParticipate in c...</td>\n",
       "      <td>NaN</td>\n",
       "      <td>NaN</td>\n",
       "      <td>http://www.ncs-i.com</td>\n",
       "      <td>NaN</td>\n",
       "      <td>Full Time, Permanent</td>\n",
       "      <td>Information Technology (IT), Product Managemen...</td>\n",
       "      <td>https://hk.jobsdb.com/hk/en/job/data-analyst-d...</td>\n",
       "    </tr>\n",
       "    <tr>\n",
       "      <th>2</th>\n",
       "      <td>Data Analyst (Data Governance)</td>\n",
       "      <td>salary</td>\n",
       "      <td>Gientech Technology (Hong Kong) Limited</td>\n",
       "      <td>2022-12-06</td>\n",
       "      <td>Ngau Tau Kok</td>\n",
       "      <td>Duties:\\nManage &amp; support data governance mode...</td>\n",
       "      <td>Middle</td>\n",
       "      <td>3 years</td>\n",
       "      <td>NaN</td>\n",
       "      <td>Degree</td>\n",
       "      <td>Full Time, Permanent</td>\n",
       "      <td>Information Technology (IT), Data Scientist</td>\n",
       "      <td>https://hk.jobsdb.com/hk/en/job/data-analyst-d...</td>\n",
       "    </tr>\n",
       "    <tr>\n",
       "      <th>3</th>\n",
       "      <td>Solution Analyst - ICC - Data Integration</td>\n",
       "      <td>salary</td>\n",
       "      <td>Cathay Pacific Airways Ltd</td>\n",
       "      <td>2022-12-06</td>\n",
       "      <td>Lantau Island</td>\n",
       "      <td>Reports to: Solution Lead / Senior Solution Le...</td>\n",
       "      <td>NaN</td>\n",
       "      <td>NaN</td>\n",
       "      <td>http://www.cathaypacific.com/careers</td>\n",
       "      <td>NaN</td>\n",
       "      <td>Full Time, Permanent</td>\n",
       "      <td>Transportation &amp; Logistics, Aviation Services,...</td>\n",
       "      <td>https://hk.jobsdb.com/hk/en/job/solution-analy...</td>\n",
       "    </tr>\n",
       "    <tr>\n",
       "      <th>4</th>\n",
       "      <td>Analyst Programmer (Data Analytics)</td>\n",
       "      <td>salary</td>\n",
       "      <td>China State Construction Engineering (Hong Kon...</td>\n",
       "      <td>2022-12-06</td>\n",
       "      <td>district</td>\n",
       "      <td>Job Description:\\nEstablish and maintain high-...</td>\n",
       "      <td>Entry Level</td>\n",
       "      <td>3 years</td>\n",
       "      <td>https://www.cscechk.com/en/</td>\n",
       "      <td>Degree</td>\n",
       "      <td>Full Time, Permanent</td>\n",
       "      <td>Information Technology (IT), DBA, Others, Data...</td>\n",
       "      <td>https://hk.jobsdb.com/hk/en/job/analyst-progra...</td>\n",
       "    </tr>\n",
       "  </tbody>\n",
       "</table>\n",
       "</div>"
      ],
      "text/plain": [
       "                                       title  salary  \\\n",
       "0                             Data Scientist  salary   \n",
       "1                   Data Analyst (Data & AI)  salary   \n",
       "2             Data Analyst (Data Governance)  salary   \n",
       "3  Solution Analyst - ICC - Data Integration  salary   \n",
       "4        Analyst Programmer (Data Analytics)  salary   \n",
       "\n",
       "                                             company      posted  \\\n",
       "0                             Connexe Search Limited  2022-12-06   \n",
       "1                                  NCSI (HK) Limited  2022-12-06   \n",
       "2            Gientech Technology (Hong Kong) Limited  2022-12-06   \n",
       "3                         Cathay Pacific Airways Ltd  2022-12-06   \n",
       "4  China State Construction Engineering (Hong Kon...  2022-12-06   \n",
       "\n",
       "        district                                    job_description  \\\n",
       "0    Kowloon Bay  Our client is one of the leading financial ins...   \n",
       "1        Tai Koo  Key Role Responsibilities:\\n\\nParticipate in c...   \n",
       "2   Ngau Tau Kok  Duties:\\nManage & support data governance mode...   \n",
       "3  Lantau Island  Reports to: Solution Lead / Senior Solution Le...   \n",
       "4       district  Job Description:\\nEstablish and maintain high-...   \n",
       "\n",
       "  Career Level Years of Experience                       Company Website  \\\n",
       "0          NaN                 NaN                                   NaN   \n",
       "1          NaN                 NaN                  http://www.ncs-i.com   \n",
       "2       Middle             3 years                                   NaN   \n",
       "3          NaN                 NaN  http://www.cathaypacific.com/careers   \n",
       "4  Entry Level             3 years           https://www.cscechk.com/en/   \n",
       "\n",
       "  Qualification              Job Type  \\\n",
       "0           NaN              Contract   \n",
       "1           NaN  Full Time, Permanent   \n",
       "2        Degree  Full Time, Permanent   \n",
       "3           NaN  Full Time, Permanent   \n",
       "4        Degree  Full Time, Permanent   \n",
       "\n",
       "                                       Job Functions  \\\n",
       "0  Banking / Finance, Others, Information Technol...   \n",
       "1  Information Technology (IT), Product Managemen...   \n",
       "2        Information Technology (IT), Data Scientist   \n",
       "3  Transportation & Logistics, Aviation Services,...   \n",
       "4  Information Technology (IT), DBA, Others, Data...   \n",
       "\n",
       "                                                 url  \n",
       "0  https://hk.jobsdb.com/hk/en/job/data-scientist...  \n",
       "1  https://hk.jobsdb.com/hk/en/job/data-analyst-d...  \n",
       "2  https://hk.jobsdb.com/hk/en/job/data-analyst-d...  \n",
       "3  https://hk.jobsdb.com/hk/en/job/solution-analy...  \n",
       "4  https://hk.jobsdb.com/hk/en/job/analyst-progra...  "
      ]
     },
     "execution_count": 5,
     "metadata": {},
     "output_type": "execute_result"
    }
   ],
   "source": [
    "df_raw.head(5)"
   ]
  },
  {
   "cell_type": "code",
   "execution_count": 6,
   "id": "d2f76c5e-9ae7-497e-b34c-68b8cd74ec28",
   "metadata": {},
   "outputs": [],
   "source": [
    "# function to replace custom missing value placeholder to NaN values\n",
    "def replace_with_nan(col, target_to_be_replaced):\n",
    "    try:\n",
    "        col.replace(target_to_be_replaced, np.nan, inplace=True)\n",
    "    except:\n",
    "        print('replacement with nan failed')"
   ]
  },
  {
   "cell_type": "code",
   "execution_count": 7,
   "id": "b4b6ce55-6265-4c76-92ca-17cb50ca916a",
   "metadata": {},
   "outputs": [
    {
     "name": "stdout",
     "output_type": "stream",
     "text": [
      "<class 'pandas.core.frame.DataFrame'>\n",
      "RangeIndex: 349 entries, 0 to 348\n",
      "Data columns (total 13 columns):\n",
      " #   Column               Non-Null Count  Dtype \n",
      "---  ------               --------------  ----- \n",
      " 0   title                349 non-null    object\n",
      " 1   salary               349 non-null    object\n",
      " 2   company              349 non-null    object\n",
      " 3   posted               349 non-null    object\n",
      " 4   district             345 non-null    object\n",
      " 5   job_description      349 non-null    object\n",
      " 6   Career Level         264 non-null    object\n",
      " 7   Years of Experience  233 non-null    object\n",
      " 8   Company Website      214 non-null    object\n",
      " 9   Qualification        281 non-null    object\n",
      " 10  Job Type             349 non-null    object\n",
      " 11  Job Functions        349 non-null    object\n",
      " 12  url                  349 non-null    object\n",
      "dtypes: object(13)\n",
      "memory usage: 35.6+ KB\n"
     ]
    }
   ],
   "source": [
    "df_raw.info()"
   ]
  },
  {
   "cell_type": "code",
   "execution_count": 8,
   "id": "5f057e80-977c-41a9-ba77-32aba8437bb1",
   "metadata": {},
   "outputs": [
    {
     "data": {
      "text/html": [
       "<div>\n",
       "<style scoped>\n",
       "    .dataframe tbody tr th:only-of-type {\n",
       "        vertical-align: middle;\n",
       "    }\n",
       "\n",
       "    .dataframe tbody tr th {\n",
       "        vertical-align: top;\n",
       "    }\n",
       "\n",
       "    .dataframe thead th {\n",
       "        text-align: right;\n",
       "    }\n",
       "</style>\n",
       "<table border=\"1\" class=\"dataframe\">\n",
       "  <thead>\n",
       "    <tr style=\"text-align: right;\">\n",
       "      <th></th>\n",
       "      <th>title</th>\n",
       "      <th>salary</th>\n",
       "      <th>company</th>\n",
       "      <th>posted</th>\n",
       "      <th>district</th>\n",
       "      <th>job_description</th>\n",
       "      <th>Career Level</th>\n",
       "      <th>Years of Experience</th>\n",
       "      <th>Company Website</th>\n",
       "      <th>Qualification</th>\n",
       "      <th>Job Type</th>\n",
       "      <th>Job Functions</th>\n",
       "      <th>url</th>\n",
       "    </tr>\n",
       "  </thead>\n",
       "  <tbody>\n",
       "    <tr>\n",
       "      <th>count</th>\n",
       "      <td>349</td>\n",
       "      <td>349</td>\n",
       "      <td>349</td>\n",
       "      <td>349</td>\n",
       "      <td>345</td>\n",
       "      <td>349</td>\n",
       "      <td>264</td>\n",
       "      <td>233</td>\n",
       "      <td>214</td>\n",
       "      <td>281</td>\n",
       "      <td>349</td>\n",
       "      <td>349</td>\n",
       "      <td>349</td>\n",
       "    </tr>\n",
       "    <tr>\n",
       "      <th>unique</th>\n",
       "      <td>255</td>\n",
       "      <td>15</td>\n",
       "      <td>178</td>\n",
       "      <td>29</td>\n",
       "      <td>39</td>\n",
       "      <td>290</td>\n",
       "      <td>3</td>\n",
       "      <td>12</td>\n",
       "      <td>96</td>\n",
       "      <td>5</td>\n",
       "      <td>11</td>\n",
       "      <td>124</td>\n",
       "      <td>316</td>\n",
       "    </tr>\n",
       "    <tr>\n",
       "      <th>top</th>\n",
       "      <td>Data Analyst</td>\n",
       "      <td>salary</td>\n",
       "      <td>Manpower Services (Hong Kong) Limited</td>\n",
       "      <td>2022-12-02</td>\n",
       "      <td>district</td>\n",
       "      <td>Our client is a multinational bank with an all...</td>\n",
       "      <td>Middle</td>\n",
       "      <td>3 years</td>\n",
       "      <td>http://www.manpowergroupgrc.hk</td>\n",
       "      <td>Degree</td>\n",
       "      <td>Full Time, Permanent</td>\n",
       "      <td>Information Technology (IT), Data Scientist</td>\n",
       "      <td>https://hk.jobsdb.com/hk/en/job/data-analyst-f...</td>\n",
       "    </tr>\n",
       "    <tr>\n",
       "      <th>freq</th>\n",
       "      <td>17</td>\n",
       "      <td>323</td>\n",
       "      <td>19</td>\n",
       "      <td>30</td>\n",
       "      <td>88</td>\n",
       "      <td>5</td>\n",
       "      <td>153</td>\n",
       "      <td>82</td>\n",
       "      <td>20</td>\n",
       "      <td>240</td>\n",
       "      <td>205</td>\n",
       "      <td>43</td>\n",
       "      <td>2</td>\n",
       "    </tr>\n",
       "  </tbody>\n",
       "</table>\n",
       "</div>"
      ],
      "text/plain": [
       "               title  salary                                company  \\\n",
       "count            349     349                                    349   \n",
       "unique           255      15                                    178   \n",
       "top     Data Analyst  salary  Manpower Services (Hong Kong) Limited   \n",
       "freq              17     323                                     19   \n",
       "\n",
       "            posted  district  \\\n",
       "count          349       345   \n",
       "unique          29        39   \n",
       "top     2022-12-02  district   \n",
       "freq            30        88   \n",
       "\n",
       "                                          job_description Career Level  \\\n",
       "count                                                 349          264   \n",
       "unique                                                290            3   \n",
       "top     Our client is a multinational bank with an all...       Middle   \n",
       "freq                                                    5          153   \n",
       "\n",
       "       Years of Experience                 Company Website Qualification  \\\n",
       "count                  233                             214           281   \n",
       "unique                  12                              96             5   \n",
       "top                3 years  http://www.manpowergroupgrc.hk        Degree   \n",
       "freq                    82                              20           240   \n",
       "\n",
       "                    Job Type                                Job Functions  \\\n",
       "count                    349                                          349   \n",
       "unique                    11                                          124   \n",
       "top     Full Time, Permanent  Information Technology (IT), Data Scientist   \n",
       "freq                     205                                           43   \n",
       "\n",
       "                                                      url  \n",
       "count                                                 349  \n",
       "unique                                                316  \n",
       "top     https://hk.jobsdb.com/hk/en/job/data-analyst-f...  \n",
       "freq                                                    2  "
      ]
     },
     "execution_count": 8,
     "metadata": {},
     "output_type": "execute_result"
    }
   ],
   "source": [
    "df_raw.describe()"
   ]
  },
  {
   "cell_type": "markdown",
   "id": "0a190b1d-6b19-4027-95a8-9837535b2bed",
   "metadata": {},
   "source": [
    "* missing values in district, career level, years of experience, company website and qualitification \n",
    "* some of the missing info in qualification is found in job_description\n",
    "* there might be duplicate jobs ads\n",
    "\n",
    "* next: remove duplicates (data cleaning) and inspect each column"
   ]
  },
  {
   "cell_type": "markdown",
   "id": "b3f9cce1-0a03-445c-9287-de1b8bd4c190",
   "metadata": {},
   "source": [
    "## Data Cleaning"
   ]
  },
  {
   "cell_type": "code",
   "execution_count": 9,
   "id": "509f682c-9b45-4700-97a0-3e2cda82c94c",
   "metadata": {},
   "outputs": [],
   "source": [
    "df_clean_1= df_raw.copy()"
   ]
  },
  {
   "cell_type": "code",
   "execution_count": 10,
   "id": "cb4f75ec-8c82-44a6-8eac-7eeb8d689d35",
   "metadata": {},
   "outputs": [
    {
     "name": "stdout",
     "output_type": "stream",
     "text": [
      "<class 'pandas.core.frame.DataFrame'>\n",
      "Int64Index: 316 entries, 0 to 348\n",
      "Data columns (total 13 columns):\n",
      " #   Column               Non-Null Count  Dtype \n",
      "---  ------               --------------  ----- \n",
      " 0   title                316 non-null    object\n",
      " 1   salary               316 non-null    object\n",
      " 2   company              316 non-null    object\n",
      " 3   posted               316 non-null    object\n",
      " 4   district             312 non-null    object\n",
      " 5   job_description      316 non-null    object\n",
      " 6   Career Level         238 non-null    object\n",
      " 7   Years of Experience  208 non-null    object\n",
      " 8   Company Website      194 non-null    object\n",
      " 9   Qualification        254 non-null    object\n",
      " 10  Job Type             316 non-null    object\n",
      " 11  Job Functions        316 non-null    object\n",
      " 12  url                  316 non-null    object\n",
      "dtypes: object(13)\n",
      "memory usage: 34.6+ KB\n"
     ]
    }
   ],
   "source": [
    "# drop duplicates\n",
    "df_clean_1.drop_duplicates(inplace=True)\n",
    "df_clean_1.info()"
   ]
  },
  {
   "cell_type": "code",
   "execution_count": 11,
   "id": "d31563f3-dca0-4c4c-b3ad-6ee9afd5f261",
   "metadata": {},
   "outputs": [],
   "source": [
    "# convert all strings to lowercase \n",
    "# df_clean_1['title']= df_clean_1[\"title\"].str.lower()"
   ]
  },
  {
   "cell_type": "code",
   "execution_count": 12,
   "id": "e2ece68c-2301-4bd3-a944-8cdcf171566f",
   "metadata": {},
   "outputs": [
    {
     "data": {
      "text/html": [
       "<div>\n",
       "<style scoped>\n",
       "    .dataframe tbody tr th:only-of-type {\n",
       "        vertical-align: middle;\n",
       "    }\n",
       "\n",
       "    .dataframe tbody tr th {\n",
       "        vertical-align: top;\n",
       "    }\n",
       "\n",
       "    .dataframe thead th {\n",
       "        text-align: right;\n",
       "    }\n",
       "</style>\n",
       "<table border=\"1\" class=\"dataframe\">\n",
       "  <thead>\n",
       "    <tr style=\"text-align: right;\">\n",
       "      <th></th>\n",
       "      <th>title</th>\n",
       "      <th>salary</th>\n",
       "      <th>company</th>\n",
       "      <th>posted</th>\n",
       "      <th>district</th>\n",
       "      <th>job_description</th>\n",
       "      <th>Career Level</th>\n",
       "      <th>Years of Experience</th>\n",
       "      <th>Company Website</th>\n",
       "      <th>Qualification</th>\n",
       "      <th>Job Type</th>\n",
       "      <th>Job Functions</th>\n",
       "      <th>url</th>\n",
       "    </tr>\n",
       "  </thead>\n",
       "  <tbody>\n",
       "    <tr>\n",
       "      <th>1</th>\n",
       "      <td>Data Analyst (Data &amp; AI)</td>\n",
       "      <td>salary</td>\n",
       "      <td>NCSI (HK) Limited</td>\n",
       "      <td>2022-12-06</td>\n",
       "      <td>Tai Koo</td>\n",
       "      <td>Key Role Responsibilities:\\n\\nParticipate in c...</td>\n",
       "      <td>NaN</td>\n",
       "      <td>NaN</td>\n",
       "      <td>http://www.ncs-i.com</td>\n",
       "      <td>NaN</td>\n",
       "      <td>Full Time, Permanent</td>\n",
       "      <td>Information Technology (IT), Product Managemen...</td>\n",
       "      <td>https://hk.jobsdb.com/hk/en/job/data-analyst-d...</td>\n",
       "    </tr>\n",
       "    <tr>\n",
       "      <th>2</th>\n",
       "      <td>Data Analyst (Data Governance)</td>\n",
       "      <td>salary</td>\n",
       "      <td>Gientech Technology (Hong Kong) Limited</td>\n",
       "      <td>2022-12-06</td>\n",
       "      <td>Ngau Tau Kok</td>\n",
       "      <td>Duties:\\nManage &amp; support data governance mode...</td>\n",
       "      <td>Middle</td>\n",
       "      <td>3 years</td>\n",
       "      <td>NaN</td>\n",
       "      <td>Degree</td>\n",
       "      <td>Full Time, Permanent</td>\n",
       "      <td>Information Technology (IT), Data Scientist</td>\n",
       "      <td>https://hk.jobsdb.com/hk/en/job/data-analyst-d...</td>\n",
       "    </tr>\n",
       "    <tr>\n",
       "      <th>3</th>\n",
       "      <td>Solution Analyst - ICC - Data Integration</td>\n",
       "      <td>salary</td>\n",
       "      <td>Cathay Pacific Airways Ltd</td>\n",
       "      <td>2022-12-06</td>\n",
       "      <td>Lantau Island</td>\n",
       "      <td>Reports to: Solution Lead / Senior Solution Le...</td>\n",
       "      <td>NaN</td>\n",
       "      <td>NaN</td>\n",
       "      <td>http://www.cathaypacific.com/careers</td>\n",
       "      <td>NaN</td>\n",
       "      <td>Full Time, Permanent</td>\n",
       "      <td>Transportation &amp; Logistics, Aviation Services,...</td>\n",
       "      <td>https://hk.jobsdb.com/hk/en/job/solution-analy...</td>\n",
       "    </tr>\n",
       "    <tr>\n",
       "      <th>4</th>\n",
       "      <td>Analyst Programmer (Data Analytics)</td>\n",
       "      <td>salary</td>\n",
       "      <td>China State Construction Engineering (Hong Kon...</td>\n",
       "      <td>2022-12-06</td>\n",
       "      <td>district</td>\n",
       "      <td>Job Description:\\nEstablish and maintain high-...</td>\n",
       "      <td>Entry Level</td>\n",
       "      <td>3 years</td>\n",
       "      <td>https://www.cscechk.com/en/</td>\n",
       "      <td>Degree</td>\n",
       "      <td>Full Time, Permanent</td>\n",
       "      <td>Information Technology (IT), DBA, Others, Data...</td>\n",
       "      <td>https://hk.jobsdb.com/hk/en/job/analyst-progra...</td>\n",
       "    </tr>\n",
       "    <tr>\n",
       "      <th>5</th>\n",
       "      <td>Business Intelligence Analyst</td>\n",
       "      <td>salary</td>\n",
       "      <td>Bureau Veritas Hong Kong Limited</td>\n",
       "      <td>2022-12-06</td>\n",
       "      <td>Kowloon Bay</td>\n",
       "      <td>Responsibilities:\\nBuild dashboards to suppor...</td>\n",
       "      <td>Middle</td>\n",
       "      <td>5 years</td>\n",
       "      <td>NaN</td>\n",
       "      <td>Degree</td>\n",
       "      <td>Full Time, Permanent</td>\n",
       "      <td>Professional Services, Business Analysis / Dat...</td>\n",
       "      <td>https://hk.jobsdb.com/hk/en/job/business-intel...</td>\n",
       "    </tr>\n",
       "  </tbody>\n",
       "</table>\n",
       "</div>"
      ],
      "text/plain": [
       "                                       title  salary  \\\n",
       "1                   Data Analyst (Data & AI)  salary   \n",
       "2             Data Analyst (Data Governance)  salary   \n",
       "3  Solution Analyst - ICC - Data Integration  salary   \n",
       "4        Analyst Programmer (Data Analytics)  salary   \n",
       "5              Business Intelligence Analyst  salary   \n",
       "\n",
       "                                             company      posted  \\\n",
       "1                                  NCSI (HK) Limited  2022-12-06   \n",
       "2            Gientech Technology (Hong Kong) Limited  2022-12-06   \n",
       "3                         Cathay Pacific Airways Ltd  2022-12-06   \n",
       "4  China State Construction Engineering (Hong Kon...  2022-12-06   \n",
       "5                   Bureau Veritas Hong Kong Limited  2022-12-06   \n",
       "\n",
       "        district                                    job_description  \\\n",
       "1        Tai Koo  Key Role Responsibilities:\\n\\nParticipate in c...   \n",
       "2   Ngau Tau Kok  Duties:\\nManage & support data governance mode...   \n",
       "3  Lantau Island  Reports to: Solution Lead / Senior Solution Le...   \n",
       "4       district  Job Description:\\nEstablish and maintain high-...   \n",
       "5    Kowloon Bay   Responsibilities:\\nBuild dashboards to suppor...   \n",
       "\n",
       "  Career Level Years of Experience                       Company Website  \\\n",
       "1          NaN                 NaN                  http://www.ncs-i.com   \n",
       "2       Middle             3 years                                   NaN   \n",
       "3          NaN                 NaN  http://www.cathaypacific.com/careers   \n",
       "4  Entry Level             3 years           https://www.cscechk.com/en/   \n",
       "5       Middle             5 years                                   NaN   \n",
       "\n",
       "  Qualification              Job Type  \\\n",
       "1           NaN  Full Time, Permanent   \n",
       "2        Degree  Full Time, Permanent   \n",
       "3           NaN  Full Time, Permanent   \n",
       "4        Degree  Full Time, Permanent   \n",
       "5        Degree  Full Time, Permanent   \n",
       "\n",
       "                                       Job Functions  \\\n",
       "1  Information Technology (IT), Product Managemen...   \n",
       "2        Information Technology (IT), Data Scientist   \n",
       "3  Transportation & Logistics, Aviation Services,...   \n",
       "4  Information Technology (IT), DBA, Others, Data...   \n",
       "5  Professional Services, Business Analysis / Dat...   \n",
       "\n",
       "                                                 url  \n",
       "1  https://hk.jobsdb.com/hk/en/job/data-analyst-d...  \n",
       "2  https://hk.jobsdb.com/hk/en/job/data-analyst-d...  \n",
       "3  https://hk.jobsdb.com/hk/en/job/solution-analy...  \n",
       "4  https://hk.jobsdb.com/hk/en/job/analyst-progra...  \n",
       "5  https://hk.jobsdb.com/hk/en/job/business-intel...  "
      ]
     },
     "execution_count": 12,
     "metadata": {},
     "output_type": "execute_result"
    }
   ],
   "source": [
    "df_clean_1[df_clean_1[\"title\"].str.contains(\"analyst\",case=False)].head()"
   ]
  },
  {
   "cell_type": "code",
   "execution_count": 13,
   "id": "4e10d2eb-b7e7-44a9-b024-e64b78c9e7ae",
   "metadata": {},
   "outputs": [
    {
     "data": {
      "text/plain": [
       "135"
      ]
     },
     "execution_count": 13,
     "metadata": {},
     "output_type": "execute_result"
    }
   ],
   "source": [
    "len(df_clean_1[df_clean_1[\"title\"].str.contains(\"analyst\",case=False)])"
   ]
  },
  {
   "cell_type": "code",
   "execution_count": 14,
   "id": "017431a9-55d0-4a38-8457-f257052f25c4",
   "metadata": {},
   "outputs": [
    {
     "data": {
      "text/plain": [
       "Index(['title', 'salary', 'company', 'posted', 'district', 'job_description',\n",
       "       'career level', 'years of experience', 'company website',\n",
       "       'qualification', 'job type', 'job functions', 'url'],\n",
       "      dtype='object')"
      ]
     },
     "execution_count": 14,
     "metadata": {},
     "output_type": "execute_result"
    }
   ],
   "source": [
    "df_clean_1.columns = df_clean_1.columns.str.lower()\n",
    "df_clean_1.columns"
   ]
  },
  {
   "cell_type": "code",
   "execution_count": 15,
   "id": "4cfedc01-8006-4300-855d-e58d440a0410",
   "metadata": {},
   "outputs": [],
   "source": [
    "# rearrange the columns for easier reading\n",
    "df_clean_1 = df_clean_1[['title',\n",
    "                          'salary',\n",
    "                          'company',\n",
    "                          'posted',\n",
    "                          'district',\n",
    "                          'career level',\n",
    "                          'years of experience',\n",
    "                          'qualification',\n",
    "                          'job type',\n",
    "                          'job functions',\n",
    "                          'job_description',\n",
    "                          'url']\n",
    "                        ]"
   ]
  },
  {
   "cell_type": "code",
   "execution_count": 16,
   "id": "d48142ae-4135-464f-970c-9886af535b92",
   "metadata": {},
   "outputs": [
    {
     "data": {
      "text/plain": [
       "Index(['title', 'salary', 'company', 'posted', 'district', 'career level',\n",
       "       'years of experience', 'qualification', 'job type', 'job functions',\n",
       "       'job_description', 'url'],\n",
       "      dtype='object')"
      ]
     },
     "execution_count": 16,
     "metadata": {},
     "output_type": "execute_result"
    }
   ],
   "source": [
    "df_clean_1.columns"
   ]
  },
  {
   "cell_type": "code",
   "execution_count": 17,
   "id": "cf8379c5-1550-4893-9802-2e10af99b8a4",
   "metadata": {},
   "outputs": [
    {
     "data": {
      "text/plain": [
       "array([nan, 'Middle', 'Entry Level', 'Senior'], dtype=object)"
      ]
     },
     "execution_count": 17,
     "metadata": {},
     "output_type": "execute_result"
    }
   ],
   "source": [
    "# inspect career level\n",
    "df_clean_1['career level'].unique()"
   ]
  },
  {
   "cell_type": "code",
   "execution_count": 65,
   "id": "16cbdbab-1a72-41dc-9120-0cb894ef5220",
   "metadata": {},
   "outputs": [
    {
     "data": {
      "text/plain": [
       "Middle         137\n",
       "Entry Level     70\n",
       "Senior          31\n",
       "Name: career level, dtype: int64"
      ]
     },
     "execution_count": 65,
     "metadata": {},
     "output_type": "execute_result"
    }
   ],
   "source": [
    "df_clean_1['career level'].value_counts()"
   ]
  },
  {
   "cell_type": "code",
   "execution_count": 18,
   "id": "b0668d56-8aad-45cf-9256-cd6e39ef8e7d",
   "metadata": {},
   "outputs": [
    {
     "data": {
      "text/plain": [
       "array(['salary', 'HK$30,000 - HK$45,000 /month',\n",
       "       'HK$70,000 - HK$90,000 /month', 'HK$30,000 - HK$70,000 /month',\n",
       "       'HK$25,000 - HK$70,000 /month', 'HK$30,000 - HK$55,000 /month',\n",
       "       'HK$20,000 - HK$55,000 /month', 'HK$30,000 - HK$35,000 /month',\n",
       "       'HK$25,000 - HK$55,000 /month', 'HK$25,000 - HK$30,000 /month',\n",
       "       'HK$20,000 - HK$30,000 /month', 'HK$35,000 - HK$55,000 /month',\n",
       "       'HK$25,000 - HK$35,000 /month', 'HK$14,000 - HK$20,000 /month',\n",
       "       'HK$25,000 - HK$45,000 /month'], dtype=object)"
      ]
     },
     "execution_count": 18,
     "metadata": {},
     "output_type": "execute_result"
    }
   ],
   "source": [
    "# inspect salary\n",
    "df_clean_1['salary'].unique()\n",
    "# very few ads are transparent with salary"
   ]
  },
  {
   "cell_type": "code",
   "execution_count": 19,
   "id": "41f21641-90b1-4ceb-91d2-8730e36aa07d",
   "metadata": {},
   "outputs": [],
   "source": [
    "# [completed] next: feature extraction to extract the min, max and average salary\n",
    "# [completed][n00] next: after feature extraction, replace 'salary' to NaN"
   ]
  },
  {
   "cell_type": "code",
   "execution_count": 20,
   "id": "81668f5e-71b2-44ed-a755-3828d0faa810",
   "metadata": {},
   "outputs": [
    {
     "data": {
      "text/plain": [
       "array(['Kowloon Bay', 'Tai Koo', 'Ngau Tau Kok', 'Lantau Island',\n",
       "       'district', 'Sheung Wan', 'Shatin Area', 'Tung Chung', 'Aberdeen',\n",
       "       'Tseung Kwan O', 'Chai Wan', 'Central', 'Central & Western Area',\n",
       "       nan, 'Quarry Bay', 'Wan Chai', 'Admiralty', 'Kwai Hing',\n",
       "       'Overseas', 'Airport Area', 'Southern Area', 'Tsim Sha Tsui',\n",
       "       'Kwun Tong', 'Tsing Yi', 'Tai Po Area', 'Others', 'North Point',\n",
       "       'Hung Hom', 'Kwun Tong Area', 'Causeway Bay', 'Kwai Tsing Area',\n",
       "       'Lai Chi Kok', 'Yau Tsim Mong Area', 'Cheung Sha Wan',\n",
       "       'Wong Tai Sin Area', 'Sai Wan Ho', 'Tin Hau', 'Tsuen Wan Area',\n",
       "       'Shau Kei Wan', 'Mong Kok'], dtype=object)"
      ]
     },
     "execution_count": 20,
     "metadata": {},
     "output_type": "execute_result"
    }
   ],
   "source": [
    "# inspect district\n",
    "df_clean_1['district'].unique()"
   ]
  },
  {
   "cell_type": "code",
   "execution_count": 21,
   "id": "3b0b3f92-8355-42e0-9b7a-8cfe5fd3d481",
   "metadata": {},
   "outputs": [
    {
     "data": {
      "text/plain": [
       "39"
      ]
     },
     "execution_count": 21,
     "metadata": {},
     "output_type": "execute_result"
    }
   ],
   "source": [
    "replace_with_nan(df_clean_1['district'], 'district')\n",
    "len(df_clean_1['district'].unique())"
   ]
  },
  {
   "cell_type": "code",
   "execution_count": 66,
   "id": "cf7ee0aa-6522-45a8-bd58-b60046d34681",
   "metadata": {},
   "outputs": [
    {
     "data": {
      "text/plain": [
       "Shatin Area               23\n",
       "Central & Western Area    23\n",
       "Kowloon Bay               22\n",
       "Central                   19\n",
       "Kwun Tong                 17\n",
       "Quarry Bay                13\n",
       "Wan Chai                  12\n",
       "Ngau Tau Kok              10\n",
       "Tai Po Area                8\n",
       "Tsing Yi                   6\n",
       "Aberdeen                   6\n",
       "Admiralty                  5\n",
       "Others                     5\n",
       "Airport Area               5\n",
       "Tsim Sha Tsui              5\n",
       "Kwun Tong Area             4\n",
       "Southern Area              4\n",
       "Cheung Sha Wan             4\n",
       "North Point                4\n",
       "Lantau Island              3\n",
       "Wong Tai Sin Area          3\n",
       "Hung Hom                   3\n",
       "Kwai Hing                  3\n",
       "Sheung Wan                 3\n",
       "Tai Koo                    3\n",
       "Tseung Kwan O              2\n",
       "Causeway Bay               2\n",
       "Lai Chi Kok                2\n",
       "Tung Chung                 1\n",
       "Overseas                   1\n",
       "Kwai Tsing Area            1\n",
       "Yau Tsim Mong Area         1\n",
       "Chai Wan                   1\n",
       "Sai Wan Ho                 1\n",
       "Tin Hau                    1\n",
       "Tsuen Wan Area             1\n",
       "Shau Kei Wan               1\n",
       "Mong Kok                   1\n",
       "Name: district, dtype: int64"
      ]
     },
     "execution_count": 66,
     "metadata": {},
     "output_type": "execute_result"
    }
   ],
   "source": [
    "df_clean_1['district'].value_counts()"
   ]
  },
  {
   "cell_type": "code",
   "execution_count": 22,
   "id": "495256e4-c019-4e74-a1ee-7763fc61f14d",
   "metadata": {},
   "outputs": [],
   "source": [
    "# next on district: study the distribution of job locations"
   ]
  },
  {
   "cell_type": "code",
   "execution_count": 23,
   "id": "464de5a0-9ed3-43d5-9a97-2ce5515bac1f",
   "metadata": {},
   "outputs": [
    {
     "data": {
      "text/plain": [
       "array([nan, '3 years', '5 years', '2 years', '1 year', '8 years',\n",
       "       '15 years', '7 years', '4 years', '6 years', '10 years',\n",
       "       '12 years', '9 years'], dtype=object)"
      ]
     },
     "execution_count": 23,
     "metadata": {},
     "output_type": "execute_result"
    }
   ],
   "source": [
    "# inspect years of experience\n",
    "df_clean_1['years of experience'].unique()"
   ]
  },
  {
   "cell_type": "code",
   "execution_count": 67,
   "id": "54482ea1-003b-4333-a77d-e4d507b68a84",
   "metadata": {},
   "outputs": [
    {
     "data": {
      "text/plain": [
       "3 years     70\n",
       "2 years     37\n",
       "5 years     32\n",
       "1 year      22\n",
       "4 years     14\n",
       "8 years     12\n",
       "6 years      9\n",
       "7 years      4\n",
       "10 years     4\n",
       "15 years     2\n",
       "12 years     1\n",
       "9 years      1\n",
       "Name: years of experience, dtype: int64"
      ]
     },
     "execution_count": 67,
     "metadata": {},
     "output_type": "execute_result"
    }
   ],
   "source": [
    "df_clean_1['years of experience'].value_counts()"
   ]
  },
  {
   "cell_type": "code",
   "execution_count": 24,
   "id": "1895124c-0e11-4b63-9c63-18c40f0371d9",
   "metadata": {},
   "outputs": [],
   "source": [
    "# [completed] next: extract numerical values from years of experience "
   ]
  },
  {
   "cell_type": "code",
   "execution_count": 25,
   "id": "af285377-88aa-486a-9a24-cff316d32e81",
   "metadata": {},
   "outputs": [
    {
     "data": {
      "text/plain": [
       "array([nan, 'Degree', 'Non-Degree Tertiary', 'Postgraduate', '(N/A)',\n",
       "       'Matriculated'], dtype=object)"
      ]
     },
     "execution_count": 25,
     "metadata": {},
     "output_type": "execute_result"
    }
   ],
   "source": [
    "# inspect qualification\n",
    "df_clean_1['qualification'].unique()"
   ]
  },
  {
   "cell_type": "code",
   "execution_count": 26,
   "id": "ef163f99-16ce-4b8e-b9c8-3c184058eb38",
   "metadata": {},
   "outputs": [
    {
     "data": {
      "text/plain": [
       "array([nan, 'Degree', 'Non-Degree Tertiary', 'Postgraduate',\n",
       "       'Matriculated'], dtype=object)"
      ]
     },
     "execution_count": 26,
     "metadata": {},
     "output_type": "execute_result"
    }
   ],
   "source": [
    "# convert [N/A] to nan\n",
    "replace_with_nan(df_clean_1['qualification'],'(N/A)')\n",
    "df_clean_1['qualification'].unique()"
   ]
  },
  {
   "cell_type": "code",
   "execution_count": 68,
   "id": "0714b023-d163-45fb-b2b5-72a4b5bd254e",
   "metadata": {},
   "outputs": [
    {
     "data": {
      "text/plain": [
       "Degree                 217\n",
       "Non-Degree Tertiary     21\n",
       "Postgraduate             5\n",
       "Matriculated             1\n",
       "Name: qualification, dtype: int64"
      ]
     },
     "execution_count": 68,
     "metadata": {},
     "output_type": "execute_result"
    }
   ],
   "source": [
    "df_clean_1['qualification'].value_counts()"
   ]
  },
  {
   "cell_type": "markdown",
   "id": "8a15ad83-cd52-4709-9862-e38a1db2c16f",
   "metadata": {},
   "source": [
    "## Feature Extraction"
   ]
  },
  {
   "cell_type": "code",
   "execution_count": 27,
   "id": "f9921a98-4c10-4375-a3c2-53f8021b5a74",
   "metadata": {},
   "outputs": [],
   "source": [
    "df_clean_2  = df_clean_1.copy()"
   ]
  },
  {
   "cell_type": "code",
   "execution_count": 28,
   "id": "b9ab3953-e674-49fe-84b8-1245bf11770f",
   "metadata": {},
   "outputs": [
    {
     "data": {
      "text/plain": [
       "array(['salary', '30000 - 45000', '70000 - 90000', '30000 - 70000',\n",
       "       '25000 - 70000', '30000 - 55000', '20000 - 55000', '30000 - 35000',\n",
       "       '25000 - 55000', '25000 - 30000', '20000 - 30000', '35000 - 55000',\n",
       "       '25000 - 35000', '14000 - 20000', '25000 - 45000'], dtype=object)"
      ]
     },
     "execution_count": 28,
     "metadata": {},
     "output_type": "execute_result"
    }
   ],
   "source": [
    "# extract min and max salary\n",
    "df_clean_2 [\"salary\"]=df_clean_2 [\"salary\"].apply(lambda x: x.replace(\"HK$\",\"\"))\n",
    "df_clean_2 [\"salary\"]=df_clean_2 [\"salary\"].apply(lambda x: x.replace(\",\",\"\"))\n",
    "df_clean_2 [\"salary\"]=df_clean_2 [\"salary\"].apply(lambda x: str(re.search('(\\d+)((\\s)(-)(\\s)(\\d+))?',x).group()) if \"/\" in x else x)\n",
    "df_clean_2['salary'].unique()"
   ]
  },
  {
   "cell_type": "code",
   "execution_count": 29,
   "id": "8c06a11d-8c9b-4c3e-8419-1684856cc6a1",
   "metadata": {},
   "outputs": [
    {
     "data": {
      "text/plain": [
       "['10000', '25000']"
      ]
     },
     "execution_count": 29,
     "metadata": {},
     "output_type": "execute_result"
    }
   ],
   "source": [
    "t = '10000 - 25000'\n",
    "t.split(' - ')"
   ]
  },
  {
   "cell_type": "code",
   "execution_count": 30,
   "id": "0e340b08-5d42-41e4-acf2-c0d826894c26",
   "metadata": {},
   "outputs": [],
   "source": [
    "def extract_salary_min_max(df):\n",
    "    min_s_list = []\n",
    "    max_s_list = []\n",
    "    avg_s_list = []\n",
    "    for i in df['salary']:\n",
    "        if 'salary' not in i:\n",
    "            min_s = int(i.split(' - ')[0])\n",
    "            max_s = int(i.split(' - ')[1])\n",
    "            avg_s = (min_s + max_s)//2\n",
    "        else:\n",
    "            min_s = 'salary'\n",
    "            max_s = 'salary'\n",
    "            avg_s = 'salary'\n",
    "        min_s_list.append(min_s)\n",
    "        max_s_list.append(max_s)\n",
    "        avg_s_list.append(avg_s)\n",
    "    \n",
    "    return [min_s_list, max_s_list, avg_s_list]"
   ]
  },
  {
   "cell_type": "code",
   "execution_count": 31,
   "id": "77e38d3b-69f7-4bd4-b645-292c99cfdb6e",
   "metadata": {},
   "outputs": [
    {
     "data": {
      "text/html": [
       "<div>\n",
       "<style scoped>\n",
       "    .dataframe tbody tr th:only-of-type {\n",
       "        vertical-align: middle;\n",
       "    }\n",
       "\n",
       "    .dataframe tbody tr th {\n",
       "        vertical-align: top;\n",
       "    }\n",
       "\n",
       "    .dataframe thead th {\n",
       "        text-align: right;\n",
       "    }\n",
       "</style>\n",
       "<table border=\"1\" class=\"dataframe\">\n",
       "  <thead>\n",
       "    <tr style=\"text-align: right;\">\n",
       "      <th></th>\n",
       "      <th>title</th>\n",
       "      <th>company</th>\n",
       "      <th>posted</th>\n",
       "      <th>district</th>\n",
       "      <th>career level</th>\n",
       "      <th>years of experience</th>\n",
       "      <th>qualification</th>\n",
       "      <th>job type</th>\n",
       "      <th>job functions</th>\n",
       "      <th>job_description</th>\n",
       "      <th>url</th>\n",
       "      <th>min_salary</th>\n",
       "      <th>max_salary</th>\n",
       "      <th>avg_salary</th>\n",
       "    </tr>\n",
       "  </thead>\n",
       "  <tbody>\n",
       "    <tr>\n",
       "      <th>0</th>\n",
       "      <td>Data Scientist</td>\n",
       "      <td>Connexe Search Limited</td>\n",
       "      <td>2022-12-06</td>\n",
       "      <td>Kowloon Bay</td>\n",
       "      <td>NaN</td>\n",
       "      <td>NaN</td>\n",
       "      <td>NaN</td>\n",
       "      <td>Contract</td>\n",
       "      <td>Banking / Finance, Others, Information Technol...</td>\n",
       "      <td>Our client is one of the leading financial ins...</td>\n",
       "      <td>https://hk.jobsdb.com/hk/en/job/data-scientist...</td>\n",
       "      <td>salary</td>\n",
       "      <td>salary</td>\n",
       "      <td>salary</td>\n",
       "    </tr>\n",
       "    <tr>\n",
       "      <th>1</th>\n",
       "      <td>Data Analyst (Data &amp; AI)</td>\n",
       "      <td>NCSI (HK) Limited</td>\n",
       "      <td>2022-12-06</td>\n",
       "      <td>Tai Koo</td>\n",
       "      <td>NaN</td>\n",
       "      <td>NaN</td>\n",
       "      <td>NaN</td>\n",
       "      <td>Full Time, Permanent</td>\n",
       "      <td>Information Technology (IT), Product Managemen...</td>\n",
       "      <td>Key Role Responsibilities:\\n\\nParticipate in c...</td>\n",
       "      <td>https://hk.jobsdb.com/hk/en/job/data-analyst-d...</td>\n",
       "      <td>salary</td>\n",
       "      <td>salary</td>\n",
       "      <td>salary</td>\n",
       "    </tr>\n",
       "    <tr>\n",
       "      <th>2</th>\n",
       "      <td>Data Analyst (Data Governance)</td>\n",
       "      <td>Gientech Technology (Hong Kong) Limited</td>\n",
       "      <td>2022-12-06</td>\n",
       "      <td>Ngau Tau Kok</td>\n",
       "      <td>Middle</td>\n",
       "      <td>3 years</td>\n",
       "      <td>Degree</td>\n",
       "      <td>Full Time, Permanent</td>\n",
       "      <td>Information Technology (IT), Data Scientist</td>\n",
       "      <td>Duties:\\nManage &amp; support data governance mode...</td>\n",
       "      <td>https://hk.jobsdb.com/hk/en/job/data-analyst-d...</td>\n",
       "      <td>salary</td>\n",
       "      <td>salary</td>\n",
       "      <td>salary</td>\n",
       "    </tr>\n",
       "    <tr>\n",
       "      <th>3</th>\n",
       "      <td>Solution Analyst - ICC - Data Integration</td>\n",
       "      <td>Cathay Pacific Airways Ltd</td>\n",
       "      <td>2022-12-06</td>\n",
       "      <td>Lantau Island</td>\n",
       "      <td>NaN</td>\n",
       "      <td>NaN</td>\n",
       "      <td>NaN</td>\n",
       "      <td>Full Time, Permanent</td>\n",
       "      <td>Transportation &amp; Logistics, Aviation Services,...</td>\n",
       "      <td>Reports to: Solution Lead / Senior Solution Le...</td>\n",
       "      <td>https://hk.jobsdb.com/hk/en/job/solution-analy...</td>\n",
       "      <td>salary</td>\n",
       "      <td>salary</td>\n",
       "      <td>salary</td>\n",
       "    </tr>\n",
       "    <tr>\n",
       "      <th>4</th>\n",
       "      <td>Analyst Programmer (Data Analytics)</td>\n",
       "      <td>China State Construction Engineering (Hong Kon...</td>\n",
       "      <td>2022-12-06</td>\n",
       "      <td>NaN</td>\n",
       "      <td>Entry Level</td>\n",
       "      <td>3 years</td>\n",
       "      <td>Degree</td>\n",
       "      <td>Full Time, Permanent</td>\n",
       "      <td>Information Technology (IT), DBA, Others, Data...</td>\n",
       "      <td>Job Description:\\nEstablish and maintain high-...</td>\n",
       "      <td>https://hk.jobsdb.com/hk/en/job/analyst-progra...</td>\n",
       "      <td>salary</td>\n",
       "      <td>salary</td>\n",
       "      <td>salary</td>\n",
       "    </tr>\n",
       "  </tbody>\n",
       "</table>\n",
       "</div>"
      ],
      "text/plain": [
       "                                       title  \\\n",
       "0                             Data Scientist   \n",
       "1                   Data Analyst (Data & AI)   \n",
       "2             Data Analyst (Data Governance)   \n",
       "3  Solution Analyst - ICC - Data Integration   \n",
       "4        Analyst Programmer (Data Analytics)   \n",
       "\n",
       "                                             company      posted  \\\n",
       "0                             Connexe Search Limited  2022-12-06   \n",
       "1                                  NCSI (HK) Limited  2022-12-06   \n",
       "2            Gientech Technology (Hong Kong) Limited  2022-12-06   \n",
       "3                         Cathay Pacific Airways Ltd  2022-12-06   \n",
       "4  China State Construction Engineering (Hong Kon...  2022-12-06   \n",
       "\n",
       "        district career level years of experience qualification  \\\n",
       "0    Kowloon Bay          NaN                 NaN           NaN   \n",
       "1        Tai Koo          NaN                 NaN           NaN   \n",
       "2   Ngau Tau Kok       Middle             3 years        Degree   \n",
       "3  Lantau Island          NaN                 NaN           NaN   \n",
       "4            NaN  Entry Level             3 years        Degree   \n",
       "\n",
       "               job type                                      job functions  \\\n",
       "0              Contract  Banking / Finance, Others, Information Technol...   \n",
       "1  Full Time, Permanent  Information Technology (IT), Product Managemen...   \n",
       "2  Full Time, Permanent        Information Technology (IT), Data Scientist   \n",
       "3  Full Time, Permanent  Transportation & Logistics, Aviation Services,...   \n",
       "4  Full Time, Permanent  Information Technology (IT), DBA, Others, Data...   \n",
       "\n",
       "                                     job_description  \\\n",
       "0  Our client is one of the leading financial ins...   \n",
       "1  Key Role Responsibilities:\\n\\nParticipate in c...   \n",
       "2  Duties:\\nManage & support data governance mode...   \n",
       "3  Reports to: Solution Lead / Senior Solution Le...   \n",
       "4  Job Description:\\nEstablish and maintain high-...   \n",
       "\n",
       "                                                 url min_salary max_salary  \\\n",
       "0  https://hk.jobsdb.com/hk/en/job/data-scientist...     salary     salary   \n",
       "1  https://hk.jobsdb.com/hk/en/job/data-analyst-d...     salary     salary   \n",
       "2  https://hk.jobsdb.com/hk/en/job/data-analyst-d...     salary     salary   \n",
       "3  https://hk.jobsdb.com/hk/en/job/solution-analy...     salary     salary   \n",
       "4  https://hk.jobsdb.com/hk/en/job/analyst-progra...     salary     salary   \n",
       "\n",
       "  avg_salary  \n",
       "0     salary  \n",
       "1     salary  \n",
       "2     salary  \n",
       "3     salary  \n",
       "4     salary  "
      ]
     },
     "execution_count": 31,
     "metadata": {},
     "output_type": "execute_result"
    }
   ],
   "source": [
    "df_clean_2['min_salary'] = extract_salary_min_max(df_clean_2)[0]\n",
    "df_clean_2['max_salary'] = extract_salary_min_max(df_clean_2)[1]\n",
    "df_clean_2['avg_salary'] = extract_salary_min_max(df_clean_2)[2]\n",
    "\n",
    "df_clean_2.drop(['salary'], axis=1, inplace = True)\n",
    "df_clean_2.head()\n"
   ]
  },
  {
   "cell_type": "code",
   "execution_count": 32,
   "id": "0ee4c570-009c-44cb-9a10-65209e0e152c",
   "metadata": {},
   "outputs": [
    {
     "data": {
      "text/html": [
       "<div>\n",
       "<style scoped>\n",
       "    .dataframe tbody tr th:only-of-type {\n",
       "        vertical-align: middle;\n",
       "    }\n",
       "\n",
       "    .dataframe tbody tr th {\n",
       "        vertical-align: top;\n",
       "    }\n",
       "\n",
       "    .dataframe thead th {\n",
       "        text-align: right;\n",
       "    }\n",
       "</style>\n",
       "<table border=\"1\" class=\"dataframe\">\n",
       "  <thead>\n",
       "    <tr style=\"text-align: right;\">\n",
       "      <th></th>\n",
       "      <th>title</th>\n",
       "      <th>company</th>\n",
       "      <th>posted</th>\n",
       "      <th>district</th>\n",
       "      <th>career level</th>\n",
       "      <th>years of experience</th>\n",
       "      <th>qualification</th>\n",
       "      <th>job type</th>\n",
       "      <th>job functions</th>\n",
       "      <th>job_description</th>\n",
       "      <th>url</th>\n",
       "      <th>min_salary</th>\n",
       "      <th>max_salary</th>\n",
       "      <th>avg_salary</th>\n",
       "    </tr>\n",
       "  </thead>\n",
       "  <tbody>\n",
       "    <tr>\n",
       "      <th>0</th>\n",
       "      <td>Data Scientist</td>\n",
       "      <td>Connexe Search Limited</td>\n",
       "      <td>2022-12-06</td>\n",
       "      <td>Kowloon Bay</td>\n",
       "      <td>NaN</td>\n",
       "      <td>NaN</td>\n",
       "      <td>NaN</td>\n",
       "      <td>Contract</td>\n",
       "      <td>Banking / Finance, Others, Information Technol...</td>\n",
       "      <td>Our client is one of the leading financial ins...</td>\n",
       "      <td>https://hk.jobsdb.com/hk/en/job/data-scientist...</td>\n",
       "      <td>NaN</td>\n",
       "      <td>NaN</td>\n",
       "      <td>NaN</td>\n",
       "    </tr>\n",
       "    <tr>\n",
       "      <th>1</th>\n",
       "      <td>Data Analyst (Data &amp; AI)</td>\n",
       "      <td>NCSI (HK) Limited</td>\n",
       "      <td>2022-12-06</td>\n",
       "      <td>Tai Koo</td>\n",
       "      <td>NaN</td>\n",
       "      <td>NaN</td>\n",
       "      <td>NaN</td>\n",
       "      <td>Full Time, Permanent</td>\n",
       "      <td>Information Technology (IT), Product Managemen...</td>\n",
       "      <td>Key Role Responsibilities:\\n\\nParticipate in c...</td>\n",
       "      <td>https://hk.jobsdb.com/hk/en/job/data-analyst-d...</td>\n",
       "      <td>NaN</td>\n",
       "      <td>NaN</td>\n",
       "      <td>NaN</td>\n",
       "    </tr>\n",
       "    <tr>\n",
       "      <th>2</th>\n",
       "      <td>Data Analyst (Data Governance)</td>\n",
       "      <td>Gientech Technology (Hong Kong) Limited</td>\n",
       "      <td>2022-12-06</td>\n",
       "      <td>Ngau Tau Kok</td>\n",
       "      <td>Middle</td>\n",
       "      <td>3 years</td>\n",
       "      <td>Degree</td>\n",
       "      <td>Full Time, Permanent</td>\n",
       "      <td>Information Technology (IT), Data Scientist</td>\n",
       "      <td>Duties:\\nManage &amp; support data governance mode...</td>\n",
       "      <td>https://hk.jobsdb.com/hk/en/job/data-analyst-d...</td>\n",
       "      <td>NaN</td>\n",
       "      <td>NaN</td>\n",
       "      <td>NaN</td>\n",
       "    </tr>\n",
       "    <tr>\n",
       "      <th>3</th>\n",
       "      <td>Solution Analyst - ICC - Data Integration</td>\n",
       "      <td>Cathay Pacific Airways Ltd</td>\n",
       "      <td>2022-12-06</td>\n",
       "      <td>Lantau Island</td>\n",
       "      <td>NaN</td>\n",
       "      <td>NaN</td>\n",
       "      <td>NaN</td>\n",
       "      <td>Full Time, Permanent</td>\n",
       "      <td>Transportation &amp; Logistics, Aviation Services,...</td>\n",
       "      <td>Reports to: Solution Lead / Senior Solution Le...</td>\n",
       "      <td>https://hk.jobsdb.com/hk/en/job/solution-analy...</td>\n",
       "      <td>NaN</td>\n",
       "      <td>NaN</td>\n",
       "      <td>NaN</td>\n",
       "    </tr>\n",
       "    <tr>\n",
       "      <th>4</th>\n",
       "      <td>Analyst Programmer (Data Analytics)</td>\n",
       "      <td>China State Construction Engineering (Hong Kon...</td>\n",
       "      <td>2022-12-06</td>\n",
       "      <td>NaN</td>\n",
       "      <td>Entry Level</td>\n",
       "      <td>3 years</td>\n",
       "      <td>Degree</td>\n",
       "      <td>Full Time, Permanent</td>\n",
       "      <td>Information Technology (IT), DBA, Others, Data...</td>\n",
       "      <td>Job Description:\\nEstablish and maintain high-...</td>\n",
       "      <td>https://hk.jobsdb.com/hk/en/job/analyst-progra...</td>\n",
       "      <td>NaN</td>\n",
       "      <td>NaN</td>\n",
       "      <td>NaN</td>\n",
       "    </tr>\n",
       "  </tbody>\n",
       "</table>\n",
       "</div>"
      ],
      "text/plain": [
       "                                       title  \\\n",
       "0                             Data Scientist   \n",
       "1                   Data Analyst (Data & AI)   \n",
       "2             Data Analyst (Data Governance)   \n",
       "3  Solution Analyst - ICC - Data Integration   \n",
       "4        Analyst Programmer (Data Analytics)   \n",
       "\n",
       "                                             company      posted  \\\n",
       "0                             Connexe Search Limited  2022-12-06   \n",
       "1                                  NCSI (HK) Limited  2022-12-06   \n",
       "2            Gientech Technology (Hong Kong) Limited  2022-12-06   \n",
       "3                         Cathay Pacific Airways Ltd  2022-12-06   \n",
       "4  China State Construction Engineering (Hong Kon...  2022-12-06   \n",
       "\n",
       "        district career level years of experience qualification  \\\n",
       "0    Kowloon Bay          NaN                 NaN           NaN   \n",
       "1        Tai Koo          NaN                 NaN           NaN   \n",
       "2   Ngau Tau Kok       Middle             3 years        Degree   \n",
       "3  Lantau Island          NaN                 NaN           NaN   \n",
       "4            NaN  Entry Level             3 years        Degree   \n",
       "\n",
       "               job type                                      job functions  \\\n",
       "0              Contract  Banking / Finance, Others, Information Technol...   \n",
       "1  Full Time, Permanent  Information Technology (IT), Product Managemen...   \n",
       "2  Full Time, Permanent        Information Technology (IT), Data Scientist   \n",
       "3  Full Time, Permanent  Transportation & Logistics, Aviation Services,...   \n",
       "4  Full Time, Permanent  Information Technology (IT), DBA, Others, Data...   \n",
       "\n",
       "                                     job_description  \\\n",
       "0  Our client is one of the leading financial ins...   \n",
       "1  Key Role Responsibilities:\\n\\nParticipate in c...   \n",
       "2  Duties:\\nManage & support data governance mode...   \n",
       "3  Reports to: Solution Lead / Senior Solution Le...   \n",
       "4  Job Description:\\nEstablish and maintain high-...   \n",
       "\n",
       "                                                 url  min_salary  max_salary  \\\n",
       "0  https://hk.jobsdb.com/hk/en/job/data-scientist...         NaN         NaN   \n",
       "1  https://hk.jobsdb.com/hk/en/job/data-analyst-d...         NaN         NaN   \n",
       "2  https://hk.jobsdb.com/hk/en/job/data-analyst-d...         NaN         NaN   \n",
       "3  https://hk.jobsdb.com/hk/en/job/solution-analy...         NaN         NaN   \n",
       "4  https://hk.jobsdb.com/hk/en/job/analyst-progra...         NaN         NaN   \n",
       "\n",
       "   avg_salary  \n",
       "0         NaN  \n",
       "1         NaN  \n",
       "2         NaN  \n",
       "3         NaN  \n",
       "4         NaN  "
      ]
     },
     "execution_count": 32,
     "metadata": {},
     "output_type": "execute_result"
    }
   ],
   "source": [
    "# [n00] replace 'salary' to nan\n",
    "replace_with_nan(df_clean_2['min_salary'], 'salary')\n",
    "replace_with_nan(df_clean_2['max_salary'], 'salary')\n",
    "replace_with_nan(df_clean_2['avg_salary'], 'salary')\n",
    "df_clean_2.head()"
   ]
  },
  {
   "cell_type": "code",
   "execution_count": null,
   "id": "4a180678-ea53-4bf2-a1f5-a81e2dfd2a20",
   "metadata": {},
   "outputs": [],
   "source": [
    "# generate cateogical labels for job titles\n",
    "\n",
    "generic_job_titles = ['analyst programmer',\n",
    "                      'business analyst',\n",
    "                      'business intelligence analyst',\n",
    "                      'data analyst', \n",
    "                      'data engineer',\n",
    "                      'data scientist',\n",
    "                      'devops',\n",
    "                      'machine learning',\n",
    "                      'mlops',\n",
    "                      'programmer',\n",
    "                      'quantitative researcher',\n",
    "                       ]\n"
   ]
  },
  {
   "cell_type": "markdown",
   "id": "a3c62436-2c31-4919-b6bf-38189b5f0f6a",
   "metadata": {},
   "source": [
    "## Exploratory Data Analysis"
   ]
  },
  {
   "cell_type": "code",
   "execution_count": 33,
   "id": "75a12dfb-ff1c-4206-9a8a-59c122582287",
   "metadata": {},
   "outputs": [],
   "source": [
    "df_clean_3 = df_clean_2.copy()"
   ]
  },
  {
   "cell_type": "code",
   "execution_count": 35,
   "id": "a93681ff-69d0-485d-9174-7b6c089adaab",
   "metadata": {},
   "outputs": [],
   "source": [
    "def count_title_by_job_nature(df, generic_titles):\n",
    "    count_by_generic = []\n",
    "    count = 0\n",
    "    for title in generic_titles: \n",
    "        count = len(df[df['title'].str.contains(title, case=False)])\n",
    "        count_by_generic.append(count)\n",
    "    return count_by_generic"
   ]
  },
  {
   "cell_type": "code",
   "execution_count": 36,
   "id": "efc85d0d-558c-498f-8472-370c5b70f73c",
   "metadata": {},
   "outputs": [],
   "source": [
    "count_by_generic_titles = count_title_by_job_nature(df_clean_3, generic_job_titles)\n"
   ]
  },
  {
   "cell_type": "markdown",
   "id": "10a91a69-e412-420f-a6c8-6122b4f81404",
   "metadata": {},
   "source": [
    "Since some job titles on the advertisment contains multiple titles, title match was implemented in a way that allows multiple matches too. The pie chart represents the portion of title matchs among all generic titles, instead of all job ads"
   ]
  },
  {
   "cell_type": "code",
   "execution_count": 37,
   "id": "c87b52d9-1488-4e7e-8f31-6c24826c6908",
   "metadata": {},
   "outputs": [
    {
     "data": {
      "text/html": [
       "<div>\n",
       "<style scoped>\n",
       "    .dataframe tbody tr th:only-of-type {\n",
       "        vertical-align: middle;\n",
       "    }\n",
       "\n",
       "    .dataframe tbody tr th {\n",
       "        vertical-align: top;\n",
       "    }\n",
       "\n",
       "    .dataframe thead th {\n",
       "        text-align: right;\n",
       "    }\n",
       "</style>\n",
       "<table border=\"1\" class=\"dataframe\">\n",
       "  <thead>\n",
       "    <tr style=\"text-align: right;\">\n",
       "      <th></th>\n",
       "      <th>Generic Title</th>\n",
       "      <th>Count</th>\n",
       "    </tr>\n",
       "  </thead>\n",
       "  <tbody>\n",
       "    <tr>\n",
       "      <th>3</th>\n",
       "      <td>data analyst</td>\n",
       "      <td>84</td>\n",
       "    </tr>\n",
       "    <tr>\n",
       "      <th>4</th>\n",
       "      <td>data engineer</td>\n",
       "      <td>35</td>\n",
       "    </tr>\n",
       "    <tr>\n",
       "      <th>5</th>\n",
       "      <td>data scientist</td>\n",
       "      <td>18</td>\n",
       "    </tr>\n",
       "    <tr>\n",
       "      <th>9</th>\n",
       "      <td>programmer</td>\n",
       "      <td>16</td>\n",
       "    </tr>\n",
       "    <tr>\n",
       "      <th>1</th>\n",
       "      <td>business analyst</td>\n",
       "      <td>13</td>\n",
       "    </tr>\n",
       "    <tr>\n",
       "      <th>0</th>\n",
       "      <td>analyst programmer</td>\n",
       "      <td>8</td>\n",
       "    </tr>\n",
       "    <tr>\n",
       "      <th>7</th>\n",
       "      <td>machine learning</td>\n",
       "      <td>7</td>\n",
       "    </tr>\n",
       "    <tr>\n",
       "      <th>2</th>\n",
       "      <td>business intelligence analyst</td>\n",
       "      <td>4</td>\n",
       "    </tr>\n",
       "    <tr>\n",
       "      <th>10</th>\n",
       "      <td>quantitative researcher</td>\n",
       "      <td>3</td>\n",
       "    </tr>\n",
       "    <tr>\n",
       "      <th>6</th>\n",
       "      <td>devops</td>\n",
       "      <td>1</td>\n",
       "    </tr>\n",
       "    <tr>\n",
       "      <th>8</th>\n",
       "      <td>mlops</td>\n",
       "      <td>0</td>\n",
       "    </tr>\n",
       "  </tbody>\n",
       "</table>\n",
       "</div>"
      ],
      "text/plain": [
       "                    Generic Title  Count\n",
       "3                    data analyst     84\n",
       "4                   data engineer     35\n",
       "5                  data scientist     18\n",
       "9                      programmer     16\n",
       "1                business analyst     13\n",
       "0              analyst programmer      8\n",
       "7                machine learning      7\n",
       "2   business intelligence analyst      4\n",
       "10        quantitative researcher      3\n",
       "6                          devops      1\n",
       "8                           mlops      0"
      ]
     },
     "execution_count": 37,
     "metadata": {},
     "output_type": "execute_result"
    }
   ],
   "source": [
    "df_title = pd.DataFrame({'Generic Title':generic_job_titles, 'Count':count_by_generic_titles})\n",
    "df_title.sort_values(by='Count',ascending= False, inplace=True)\n",
    "df_title"
   ]
  },
  {
   "cell_type": "code",
   "execution_count": 38,
   "id": "0b710772-892c-4d2b-b442-dcb0b18be160",
   "metadata": {},
   "outputs": [],
   "source": [
    "# filter\n",
    "df_pie_title = df_title[df_title['Count']>5]\n",
    "other_row = pd.Series({'Generic Title':'Others', 'Count' : 5})\n",
    "df_pie_title= pd.concat([df_pie_title, other_row.to_frame().T], ignore_index = True)\n",
    "# this line copied from pandas docs "
   ]
  },
  {
   "cell_type": "code",
   "execution_count": 39,
   "id": "789f133b-3d1e-45f7-a79c-8540be70892f",
   "metadata": {},
   "outputs": [
    {
     "data": {
      "image/png": "[encoded data removed]",
      "text/plain": [
       "<Figure size 640x480 with 1 Axes>"
      ]
     },
     "metadata": {},
     "output_type": "display_data"
    }
   ],
   "source": [
    "ax = df_pie_title.plot(y='Count', \n",
    "                        kind='pie', \n",
    "                        labels= df_pie_title['Generic Title'], \n",
    "                        autopct = '%1.0f%%',\n",
    "                        legend=False,\n",
    "                        title='Job search results of data professions on HK Jobsdb, 6 Dec 2022 ',\n",
    "                        startangle=90,\n",
    "                         fontsize = 8.5\n",
    "                      )   \n",
    "ax.set(ylabel='')\n",
    "ax.figure.savefig('job_titles.svg')\n",
    "ax.figure.savefig('job_titles.png')\n"
   ]
  },
  {
   "cell_type": "code",
   "execution_count": 41,
   "id": "35403bb5-ec3a-468e-8359-ff784992d8b7",
   "metadata": {},
   "outputs": [
    {
     "data": {
      "text/html": [
       "<div>\n",
       "<style scoped>\n",
       "    .dataframe tbody tr th:only-of-type {\n",
       "        vertical-align: middle;\n",
       "    }\n",
       "\n",
       "    .dataframe tbody tr th {\n",
       "        vertical-align: top;\n",
       "    }\n",
       "\n",
       "    .dataframe thead th {\n",
       "        text-align: right;\n",
       "    }\n",
       "</style>\n",
       "<table border=\"1\" class=\"dataframe\">\n",
       "  <thead>\n",
       "    <tr style=\"text-align: right;\">\n",
       "      <th></th>\n",
       "      <th>title</th>\n",
       "      <th>company</th>\n",
       "      <th>posted</th>\n",
       "      <th>district</th>\n",
       "      <th>career level</th>\n",
       "      <th>years of experience</th>\n",
       "      <th>qualification</th>\n",
       "      <th>job type</th>\n",
       "      <th>job functions</th>\n",
       "      <th>job_description</th>\n",
       "      <th>url</th>\n",
       "      <th>min_salary</th>\n",
       "      <th>max_salary</th>\n",
       "      <th>avg_salary</th>\n",
       "    </tr>\n",
       "  </thead>\n",
       "  <tbody>\n",
       "    <tr>\n",
       "      <th>0</th>\n",
       "      <td>Data Scientist</td>\n",
       "      <td>Connexe Search Limited</td>\n",
       "      <td>2022-12-06</td>\n",
       "      <td>Kowloon Bay</td>\n",
       "      <td>NaN</td>\n",
       "      <td>NaN</td>\n",
       "      <td>NaN</td>\n",
       "      <td>Contract</td>\n",
       "      <td>Banking / Finance, Others, Information Technol...</td>\n",
       "      <td>Our client is one of the leading financial ins...</td>\n",
       "      <td>https://hk.jobsdb.com/hk/en/job/data-scientist...</td>\n",
       "      <td>NaN</td>\n",
       "      <td>NaN</td>\n",
       "      <td>NaN</td>\n",
       "    </tr>\n",
       "    <tr>\n",
       "      <th>1</th>\n",
       "      <td>Data Analyst (Data &amp; AI)</td>\n",
       "      <td>NCSI (HK) Limited</td>\n",
       "      <td>2022-12-06</td>\n",
       "      <td>Tai Koo</td>\n",
       "      <td>NaN</td>\n",
       "      <td>NaN</td>\n",
       "      <td>NaN</td>\n",
       "      <td>Full Time, Permanent</td>\n",
       "      <td>Information Technology (IT), Product Managemen...</td>\n",
       "      <td>Key Role Responsibilities:\\n\\nParticipate in c...</td>\n",
       "      <td>https://hk.jobsdb.com/hk/en/job/data-analyst-d...</td>\n",
       "      <td>NaN</td>\n",
       "      <td>NaN</td>\n",
       "      <td>NaN</td>\n",
       "    </tr>\n",
       "    <tr>\n",
       "      <th>2</th>\n",
       "      <td>Data Analyst (Data Governance)</td>\n",
       "      <td>Gientech Technology (Hong Kong) Limited</td>\n",
       "      <td>2022-12-06</td>\n",
       "      <td>Ngau Tau Kok</td>\n",
       "      <td>Middle</td>\n",
       "      <td>3</td>\n",
       "      <td>Degree</td>\n",
       "      <td>Full Time, Permanent</td>\n",
       "      <td>Information Technology (IT), Data Scientist</td>\n",
       "      <td>Duties:\\nManage &amp; support data governance mode...</td>\n",
       "      <td>https://hk.jobsdb.com/hk/en/job/data-analyst-d...</td>\n",
       "      <td>NaN</td>\n",
       "      <td>NaN</td>\n",
       "      <td>NaN</td>\n",
       "    </tr>\n",
       "    <tr>\n",
       "      <th>3</th>\n",
       "      <td>Solution Analyst - ICC - Data Integration</td>\n",
       "      <td>Cathay Pacific Airways Ltd</td>\n",
       "      <td>2022-12-06</td>\n",
       "      <td>Lantau Island</td>\n",
       "      <td>NaN</td>\n",
       "      <td>NaN</td>\n",
       "      <td>NaN</td>\n",
       "      <td>Full Time, Permanent</td>\n",
       "      <td>Transportation &amp; Logistics, Aviation Services,...</td>\n",
       "      <td>Reports to: Solution Lead / Senior Solution Le...</td>\n",
       "      <td>https://hk.jobsdb.com/hk/en/job/solution-analy...</td>\n",
       "      <td>NaN</td>\n",
       "      <td>NaN</td>\n",
       "      <td>NaN</td>\n",
       "    </tr>\n",
       "    <tr>\n",
       "      <th>4</th>\n",
       "      <td>Analyst Programmer (Data Analytics)</td>\n",
       "      <td>China State Construction Engineering (Hong Kon...</td>\n",
       "      <td>2022-12-06</td>\n",
       "      <td>NaN</td>\n",
       "      <td>Entry Level</td>\n",
       "      <td>3</td>\n",
       "      <td>Degree</td>\n",
       "      <td>Full Time, Permanent</td>\n",
       "      <td>Information Technology (IT), DBA, Others, Data...</td>\n",
       "      <td>Job Description:\\nEstablish and maintain high-...</td>\n",
       "      <td>https://hk.jobsdb.com/hk/en/job/analyst-progra...</td>\n",
       "      <td>NaN</td>\n",
       "      <td>NaN</td>\n",
       "      <td>NaN</td>\n",
       "    </tr>\n",
       "  </tbody>\n",
       "</table>\n",
       "</div>"
      ],
      "text/plain": [
       "                                       title  \\\n",
       "0                             Data Scientist   \n",
       "1                   Data Analyst (Data & AI)   \n",
       "2             Data Analyst (Data Governance)   \n",
       "3  Solution Analyst - ICC - Data Integration   \n",
       "4        Analyst Programmer (Data Analytics)   \n",
       "\n",
       "                                             company      posted  \\\n",
       "0                             Connexe Search Limited  2022-12-06   \n",
       "1                                  NCSI (HK) Limited  2022-12-06   \n",
       "2            Gientech Technology (Hong Kong) Limited  2022-12-06   \n",
       "3                         Cathay Pacific Airways Ltd  2022-12-06   \n",
       "4  China State Construction Engineering (Hong Kon...  2022-12-06   \n",
       "\n",
       "        district career level years of experience qualification  \\\n",
       "0    Kowloon Bay          NaN                 NaN           NaN   \n",
       "1        Tai Koo          NaN                 NaN           NaN   \n",
       "2   Ngau Tau Kok       Middle                   3        Degree   \n",
       "3  Lantau Island          NaN                 NaN           NaN   \n",
       "4            NaN  Entry Level                   3        Degree   \n",
       "\n",
       "               job type                                      job functions  \\\n",
       "0              Contract  Banking / Finance, Others, Information Technol...   \n",
       "1  Full Time, Permanent  Information Technology (IT), Product Managemen...   \n",
       "2  Full Time, Permanent        Information Technology (IT), Data Scientist   \n",
       "3  Full Time, Permanent  Transportation & Logistics, Aviation Services,...   \n",
       "4  Full Time, Permanent  Information Technology (IT), DBA, Others, Data...   \n",
       "\n",
       "                                     job_description  \\\n",
       "0  Our client is one of the leading financial ins...   \n",
       "1  Key Role Responsibilities:\\n\\nParticipate in c...   \n",
       "2  Duties:\\nManage & support data governance mode...   \n",
       "3  Reports to: Solution Lead / Senior Solution Le...   \n",
       "4  Job Description:\\nEstablish and maintain high-...   \n",
       "\n",
       "                                                 url  min_salary  max_salary  \\\n",
       "0  https://hk.jobsdb.com/hk/en/job/data-scientist...         NaN         NaN   \n",
       "1  https://hk.jobsdb.com/hk/en/job/data-analyst-d...         NaN         NaN   \n",
       "2  https://hk.jobsdb.com/hk/en/job/data-analyst-d...         NaN         NaN   \n",
       "3  https://hk.jobsdb.com/hk/en/job/solution-analy...         NaN         NaN   \n",
       "4  https://hk.jobsdb.com/hk/en/job/analyst-progra...         NaN         NaN   \n",
       "\n",
       "   avg_salary  \n",
       "0         NaN  \n",
       "1         NaN  \n",
       "2         NaN  \n",
       "3         NaN  \n",
       "4         NaN  "
      ]
     },
     "execution_count": 41,
     "metadata": {},
     "output_type": "execute_result"
    }
   ],
   "source": [
    "# convert no of years (strings) to no of years (int)\n",
    "\n",
    "df_clean_3['years of experience'] = df_clean_3['years of experience'].str.extract('(\\d+)')\n",
    "df_clean_3.head()"
   ]
  },
  {
   "cell_type": "code",
   "execution_count": 72,
   "id": "a5bc6de6-82e5-4423-8472-f3c7b64deb3b",
   "metadata": {},
   "outputs": [
    {
     "data": {
      "image/png": "[encoded data removed]",
      "text/plain": [
       "<Figure size 1700x500 with 3 Axes>"
      ]
     },
     "metadata": {},
     "output_type": "display_data"
    }
   ],
   "source": [
    "# career level, years of experience, qualification breakdown\n",
    "fig, axes = plt.subplots(nrows=1, ncols=3, figsize=(17,5))\n",
    "df_p1 = df_clean_3.copy()\n",
    "\n",
    "fig.suptitle('HK Data Profession Job Ads, scrapped from HK Jobsdb, 2022-12-6',size=20)\n",
    "\n",
    "career_level_order = ['Entry Level', 'Middle', 'Senior']\n",
    "plot_career_level = sns.countplot(x='career level',data=df_p1, ax = axes[0], order = career_level_order)\n",
    "\n",
    "df_p1['years of experience'] = pd.to_numeric(df_p1['years of experience'], downcast = 'integer')\n",
    "df_p1.sort_values(by=['years of experience'],inplace=True)\n",
    "plot_yoe = sns.countplot(x='years of experience',data=df_p1, ax = axes[1])\n",
    "\n",
    "plot_quali = sns.countplot(x='qualification',data=df_p1, ax = axes[2])\n",
    "\n",
    "fig.savefig('additional_info_breakdown.svg')\n",
    "fig.figure.savefig('additional_info_breakdown.png')\n"
   ]
  },
  {
   "cell_type": "markdown",
   "id": "79390d79-5d99-4b10-8b9f-403f32ff4130",
   "metadata": {},
   "source": [
    "## further updates\n",
    "* feature extraction: standardize job titles into categorical variable to do kmeans clustering"
   ]
  }
 ],
 "metadata": {
  "kernelspec": {
   "display_name": "Python 3 (ipykernel)",
   "language": "python",
   "name": "python3"
  },
  "language_info": {
   "codemirror_mode": {
    "name": "ipython",
    "version": 3
   },
   "file_extension": ".py",
   "mimetype": "text/x-python",
   "name": "python",
   "nbconvert_exporter": "python",
   "pygments_lexer": "ipython3",
   "version": "3.9.15"
  }
 },
 "nbformat": 4,
 "nbformat_minor": 5
}
