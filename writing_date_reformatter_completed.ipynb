{
 "cells": [
  {
   "cell_type": "markdown",
   "id": "f1f06a2e",
   "metadata": {},
   "source": [
    "### date cleaning"
   ]
  },
  {
   "cell_type": "code",
   "execution_count": 72,
   "id": "967e8522",
   "metadata": {},
   "outputs": [],
   "source": [
    "from datetime import date\n",
    "from datetime import datetime\n",
    "TODAY_STR = str(date.today())"
   ]
  },
  {
   "cell_type": "code",
   "execution_count": 73,
   "id": "1dee27a0",
   "metadata": {},
   "outputs": [],
   "source": [
    "string_1 = 'Posted 2 hours ago'\n",
    "string_2 = 'Posted on 2-Dec-22'"
   ]
  },
  {
   "cell_type": "code",
   "execution_count": 74,
   "id": "af258a89",
   "metadata": {},
   "outputs": [],
   "source": [
    "def date_cleaning(raw_date_string):\n",
    "    if 'hour' in raw_date_string:\n",
    "        # today\n",
    "        # 'Posted 2 hours ago'\n",
    "        return TODAY_STR\n",
    "    else:\n",
    "        # 'Posted on 2-Dec-22'\n",
    "        date_string = raw_date_string.removeprefix('Posted on ')\n",
    "        return date_string"
   ]
  },
  {
   "cell_type": "code",
   "execution_count": 75,
   "id": "8947b9f2",
   "metadata": {},
   "outputs": [],
   "source": [
    "def check_alphabet(date_string):\n",
    "    for letter in date_string:\n",
    "        if letter.isalpha():\n",
    "            return True    #contains month\n",
    "    return False"
   ]
  },
  {
   "cell_type": "code",
   "execution_count": 76,
   "id": "5893fdc6",
   "metadata": {},
   "outputs": [],
   "source": [
    "def date_reformat(date_string):\n",
    "    if check_alphabet(date_string):\n",
    "        # alphabet in string means there are months\n",
    "        odate = datetime.strptime(date_string, '%d-%b-%y')\n",
    "    else:\n",
    "        odate = datetime.strptime(date_string,'%Y-%m-%d')\n",
    "    date_reformatted = odate.strftime('%Y-%m-%d')    \n",
    "    \n",
    "    return date_reformatted"
   ]
  },
  {
   "cell_type": "code",
   "execution_count": 79,
   "id": "0496238d",
   "metadata": {},
   "outputs": [
    {
     "data": {
      "text/plain": [
       "'2022-12-04'"
      ]
     },
     "execution_count": 79,
     "metadata": {},
     "output_type": "execute_result"
    }
   ],
   "source": [
    "string_1 = date_cleaning(string_1) \n",
    "date_reformat(string_1)"
   ]
  },
  {
   "cell_type": "code",
   "execution_count": 80,
   "id": "b7f7547e",
   "metadata": {},
   "outputs": [
    {
     "data": {
      "text/plain": [
       "'2022-12-02'"
      ]
     },
     "execution_count": 80,
     "metadata": {},
     "output_type": "execute_result"
    }
   ],
   "source": [
    "string_2 = date_cleaning(string_2) \n",
    "date_reformat(string_2)"
   ]
  }
 ],
 "metadata": {
  "kernelspec": {
   "display_name": "Python 3 (ipykernel)",
   "language": "python",
   "name": "python3"
  },
  "language_info": {
   "codemirror_mode": {
    "name": "ipython",
    "version": 3
   },
   "file_extension": ".py",
   "mimetype": "text/x-python",
   "name": "python",
   "nbconvert_exporter": "python",
   "pygments_lexer": "ipython3",
   "version": "3.9.15"
  }
 },
 "nbformat": 4,
 "nbformat_minor": 5
}
